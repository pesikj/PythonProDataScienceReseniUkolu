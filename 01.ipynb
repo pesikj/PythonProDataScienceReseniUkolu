{
 "cells": [
  {
   "attachments": {},
   "cell_type": "markdown",
   "metadata": {},
   "source": [
    "# Swing states\n",
    "\n",
    "V případě amerických prezidentských voleb obecně platí, že ve většině států dlouhodobě vyhrávají kandidáti jedné strany. Například v Kalifornii vyhrává kandidát Demokratické strany or roku 1992, v Texasu kandidát Republikánské strany od roku 1980, v Kansasu do konce od roku 1968 atd. Státy, kde se vítězné strany střídají, jsou označovány jako \"swing states\" (\"kolísavé státy\"). Tvým úkolem je vybrat státy, které lze označit jako swing states.\n",
    "\n",
    "V souboru [1976-2020-president.csv](1976-2020-president.csv) najdeš historické výsledky amerických prezidentských voleb. Každý řádek souboru obsahuje počet hlasů pro kandidáta dané strany v daném roce.\n",
    "\n",
    "V souboru jsou důležité následující sloupce:\n",
    "\n",
    "- `Year` - rok voleb,\n",
    "- `State` - stát,\n",
    "- `party_simplified` - zjednodušené označení politické strany,\n",
    "- `candidatevotes` - počet hlasů pro vybraného kandidáta,\n",
    "- `totalvotes` - celkový počet odevzdaných hlasů.\n",
    "\n",
    "Proveď níže uvedené úkoly.\n",
    "\n",
    "1. Urči pořadí jednotlivých kandidátů v jednotlivých státech a v jednotlivých letech (pomocí metody `rank()`). Nezapomeň, že data je před použitím metody nutné seřadit a spolu s metodou `rank()` je nutné použít metodu `groupby()`.\n",
    "1. Pro další analýzu jsou důležití pouze vítězové. Vytvoř novou tabulku, která bude obsahovat pouze vítěze voleb.\n",
    "1. Pomocí metody `shift()` přidej nový sloupec, abys v jednotlivých řádcích měl(a) po sobě vítězné strany ve dvou po sobě jdoucích letech.\n",
    "1. Porovnej, jestli se ve dvou po sobě jdoucích letech změnila vítězná strana. Můžeš k tomu použít např. funkci `numpy.where()` nebo metodu `apply()`.\n",
    "1. Proveď agregaci podle názvu státu a seřaď státy podle počtu změn vítězných stran.\n",
    "1. Vytvoř sloupcový graf s 10 státy, kde došlo k nejčastější změně vítězné strany. Jako výšku sloupce nastav počet změn.\n",
    "\n",
    "Pro další část pracuj s tabulkou se dvěma nejúspěšnějšími kandidáty pro každý rok a stát (tj. s tabulkou, která oproti té minulé neobsahuje jen vítěze, ale i druhého v pořadí).\n",
    "\n",
    "1. Přidej do tabulky sloupec, který obsahuje absolutní rozdíl mezi vítězem a druhým v pořadí.\n",
    "1. Přidej sloupec s relativním marginem, tj. rozdílem vyděleným počtem hlasů.\n",
    "1. Seřaď tabulku podle velikosti relativního marginu a zjisti, kdy a ve kterém státě byl výsledek voleb nejtěsnější.\n",
    "1. Vytvoř pivot tabulku, která zobrazí pro jednotlivé volební roky, kolik států přešlo od Republikánské strany k Demokratické straně, kolik států přešlo od Demokratické strany k Republikánské straně a kolik států volilo kandidáta stejné strany."
   ]
  }
 ],
 "metadata": {
  "language_info": {
   "name": "python"
  },
  "orig_nbformat": 4
 },
 "nbformat": 4,
 "nbformat_minor": 2
}
