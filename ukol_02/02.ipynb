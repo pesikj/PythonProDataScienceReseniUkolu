{
 "cells": [
  {
   "attachments": {},
   "cell_type": "markdown",
   "metadata": {},
   "source": [
    "# Úkol 2"
   ]
  },
  {
   "cell_type": "code",
   "execution_count": 2,
   "metadata": {},
   "outputs": [],
   "source": [
    "import pandas\n",
    "\n",
    "countries = pandas.read_csv(\"countries.csv\")\n",
    "data_a = pandas.read_csv(\"ukol_02_a.csv\")\n",
    "data_b = pandas.read_csv(\"ukol_02_b.csv\")"
   ]
  },
  {
   "attachments": {},
   "cell_type": "markdown",
   "metadata": {},
   "source": [
    "## Inflace\n",
    "\n",
    "V souboru [ukol_02_a.csv](soubory_02/ukol_02_a.csv) najdeš procenta lidí, kteří považují inflaci a růst životních nákladů za jeden ze svých nejzávažnějších problémů. Data jsou za dvě období - léto 2022 (sloupec 97) a zima 2022/2023 (sloupec 98). Ověř, zda se procento lidí, kteří řadí inflaci mezi 2 své nejzávažnější problémy, změnilo.\n",
    "\n",
    "Je vhodné provést následující postup:\n",
    "\n",
    "- Test normality obou skupin dat. Podle toho zjistíš, zda je lepší provést parametrický nebo neparametrický test.\n",
    "- Formulace hypotéz testu.\n",
    "- Výběr vhodného testu. Vhodný je test, který jsme na lekci nepoužívali, ale je v seznamu testů, který je součástí lekce 6. Důležité je uvědomit si, že **porovnáváme tu samou skupinu států ve dvou různých časových obdobích**.\n",
    "- Formulace výsledek testu (na základě p-hodnoty)."
   ]
  },
  {
   "attachments": {},
   "cell_type": "markdown",
   "metadata": {},
   "source": [
    "Nejprve uvažuji všechny státy v průzkumu.\n",
    "\n",
    "Hypotézy jsou obdobné, pouze jednou se týkají dat z léta 2022 a jednou ze zimy 2022/2023.\n",
    "\n",
    "- H0: Procento lidí, kteří řadí inflaci mezi své největší problémy, má normální rozdělení\n",
    "- H1: Procento lidí, kteří řadí inflaci mezi své největší problémy, nemá normální rozdělení"
   ]
  },
  {
   "cell_type": "code",
   "execution_count": 3,
   "metadata": {},
   "outputs": [
    {
     "data": {
      "text/plain": [
       "ShapiroResult(statistic=0.9803104996681213, pvalue=0.687289297580719)"
      ]
     },
     "execution_count": 3,
     "metadata": {},
     "output_type": "execute_result"
    }
   ],
   "source": [
    "import pandas\n",
    "from scipy import stats\n",
    "\n",
    "res = stats.shapiro(data_a[\"98\"])\n",
    "res"
   ]
  },
  {
   "cell_type": "code",
   "execution_count": 4,
   "metadata": {},
   "outputs": [
    {
     "data": {
      "text/plain": [
       "ShapiroResult(statistic=0.9694532752037048, pvalue=0.33090925216674805)"
      ]
     },
     "execution_count": 4,
     "metadata": {},
     "output_type": "execute_result"
    }
   ],
   "source": [
    "res = stats.shapiro(data_a[\"97\"])\n",
    "res"
   ]
  },
  {
   "attachments": {},
   "cell_type": "markdown",
   "metadata": {},
   "source": [
    "Nezamítáme hypotézu normálního rozdělení. Jedná se o párová pozorování (jeden stát, dvě období). Z toho důvodu použiju párový t-test.\n",
    "\n",
    "Hypotézy:\n",
    "H0: Průměrné procento lidí, které považuje inflaci za jeden ze svých největších problémů, se nezměnilo.\n",
    "H1: Průměrné procento lidí, které považuje inflaci za jeden ze svých největších problémů, se změnilo."
   ]
  },
  {
   "cell_type": "code",
   "execution_count": 5,
   "metadata": {},
   "outputs": [
    {
     "data": {
      "text/plain": [
       "TtestResult(statistic=3.868878598419143, pvalue=0.0003938172257904746, df=40)"
      ]
     },
     "execution_count": 5,
     "metadata": {},
     "output_type": "execute_result"
    }
   ],
   "source": [
    "stats.ttest_rel(data_a[\"97\"], data_a[\"98\"])"
   ]
  },
  {
   "attachments": {},
   "cell_type": "markdown",
   "metadata": {},
   "source": [
    "p-hodnota je menší než 0.05. Zamítám nulovou hypotézu. Průměrné procento lidí, kteří považují inflaci za jeden ze svých hlavních problémů, se změnilo."
   ]
  },
  {
   "cell_type": "code",
   "execution_count": 6,
   "metadata": {},
   "outputs": [
    {
     "name": "stdout",
     "output_type": "stream",
     "text": [
      "ShapiroResult(statistic=0.9399222135543823, pvalue=0.12131019681692123)\n",
      "ShapiroResult(statistic=0.952153205871582, pvalue=0.24169494211673737)\n"
     ]
    },
    {
     "data": {
      "text/plain": [
       "TtestResult(statistic=3.4869444202944764, pvalue=0.0017533857526091583, df=26)"
      ]
     },
     "execution_count": 6,
     "metadata": {},
     "output_type": "execute_result"
    }
   ],
   "source": [
    "data_a = pandas.merge(data_a, countries)\n",
    "print(stats.shapiro(data_a[\"98\"]))\n",
    "print(stats.shapiro(data_a[\"97\"]))\n",
    "stats.ttest_rel(data_a[\"97\"], data_a[\"98\"])"
   ]
  },
  {
   "attachments": {},
   "cell_type": "markdown",
   "metadata": {},
   "source": [
    "Pro státy EU se p-hodnoty liší, ale postup a závěry jsou stejné."
   ]
  },
  {
   "attachments": {},
   "cell_type": "markdown",
   "metadata": {},
   "source": [
    "## Důvěra ve stát a v EU\n",
    "\n",
    "Ve výzkumu je dále zkoumáno, jak moc lidé věří své národní vládě a jak moc věří EU. Data jsou v souboru [ukol_02_b.csv](soubory_02/ukol_02_b.csv). Číslo udává procento lidí, kteří dané instituci věří. Ověř, zda existuje korelace mezi procentem lidí, které věří EU v každé ze zemí, a procentem lidí, kteří EU nevěří.\n",
    "\n",
    "\n",
    "- H0: Procento lidí, kteří věří své národní vládě, má normální rozdělení\n",
    "- H1: Procento lidí, kteří věří své národní vládě, nmá normální rozdělení"
   ]
  },
  {
   "cell_type": "code",
   "execution_count": 7,
   "metadata": {},
   "outputs": [
    {
     "data": {
      "text/plain": [
       "ShapiroResult(statistic=0.9438267350196838, pvalue=0.15140558779239655)"
      ]
     },
     "execution_count": 7,
     "metadata": {},
     "output_type": "execute_result"
    }
   ],
   "source": [
    "data_b = pandas.merge(data_b, countries)\n",
    "\n",
    "res = stats.shapiro(data_b[\"National Government Trust\"])\n",
    "res"
   ]
  },
  {
   "cell_type": "code",
   "execution_count": 8,
   "metadata": {},
   "outputs": [
    {
     "data": {
      "text/plain": [
       "ShapiroResult(statistic=0.9735807180404663, pvalue=0.6981646418571472)"
      ]
     },
     "execution_count": 8,
     "metadata": {},
     "output_type": "execute_result"
    }
   ],
   "source": [
    "res = stats.shapiro(data_b[\"EU Trust\"])\n",
    "res"
   ]
  },
  {
   "attachments": {},
   "cell_type": "markdown",
   "metadata": {},
   "source": [
    "Normalitu nezamítáme, použijeme tedy Pearsonův test\n",
    "\n",
    "H0: Důvěra v národní vládu a důvěra v EU jsou lineárně nezávislé\n",
    "H1: Důvěra v národní vládu a důvěra v EU jsou lineárně závislé"
   ]
  },
  {
   "cell_type": "code",
   "execution_count": 9,
   "metadata": {},
   "outputs": [
    {
     "data": {
      "text/plain": [
       "PearsonRResult(statistic=0.6097186340024556, pvalue=0.0007345896228823406)"
      ]
     },
     "execution_count": 9,
     "metadata": {},
     "output_type": "execute_result"
    }
   ],
   "source": [
    "res = stats.pearsonr(data_b[\"National Government Trust\"], data_b[\"EU Trust\"])\n",
    "res"
   ]
  },
  {
   "attachments": {},
   "cell_type": "markdown",
   "metadata": {},
   "source": [
    "Zamítáme nulovou hypotézu, existuje lineární závislost mezi důvěrou v EU a důvěrou v národní vládu."
   ]
  },
  {
   "attachments": {},
   "cell_type": "markdown",
   "metadata": {},
   "source": [
    "## Důvěra ve stát e euro\n",
    "\n",
    "Nakonec si rozdělíme státy EU na dvě skupiny - státy v eurozóně a státy mimo ni. Jak je to s důvěrou v EU? Důvěřují EU více lidé, kteří žijí ve státech platící eurem? Využij znovu data o důvěře v EU ze souboru [ukol_02_b.csv](soubory_02/ukol_02_b.csv) a rozděl státy na ty, které jsou v eurozóně, a ty, které jsou mimo ni. Porovnej, jak se liší důvěra v EU v těchto dvou skupinách zemí. Státy můžeš rozdělit s využitím tabulky v souboru [countries.csv](countries.csv)."
   ]
  },
  {
   "attachments": {},
   "cell_type": "markdown",
   "metadata": {},
   "source": [
    "H0: Průměrná důvěra v EU se neliší ve státech v eurozónu a ve státech mimo eurozónu\n",
    "H1: Průměrná důvěra v EU se liší ve státech v eurozónu a ve státech mimo eurozónu"
   ]
  },
  {
   "cell_type": "code",
   "execution_count": 10,
   "metadata": {},
   "outputs": [
    {
     "data": {
      "text/plain": [
       "Ttest_indResult(statistic=-0.33471431258258433, pvalue=0.7406326832748829)"
      ]
     },
     "execution_count": 10,
     "metadata": {},
     "output_type": "execute_result"
    }
   ],
   "source": [
    "data_b_euro = data_b[data_b[\"Euro\"] == 1]\n",
    "data_b_not_euro = data_b[data_b[\"Euro\"] == 0]\n",
    "stats.ttest_ind(data_b_euro[\"EU Trust\"], data_b_not_euro[\"EU Trust\"])"
   ]
  },
  {
   "attachments": {},
   "cell_type": "markdown",
   "metadata": {},
   "source": [
    "p-hodnota je vyšší než 0.05, neprokázali jsme, že by se důvěra v EU lišila."
   ]
  },
  {
   "attachments": {},
   "cell_type": "markdown",
   "metadata": {},
   "source": [
    "## Doplnění"
   ]
  },
  {
   "cell_type": "code",
   "execution_count": 11,
   "metadata": {},
   "outputs": [
    {
     "data": {
      "image/png": "[encoded data removed]",
      "text/plain": [
       "<Figure size 640x480 with 1 Axes>"
      ]
     },
     "metadata": {},
     "output_type": "display_data"
    }
   ],
   "source": [
    "res = data_a[\"98\"].plot.kde()"
   ]
  },
  {
   "cell_type": "code",
   "execution_count": 13,
   "metadata": {},
   "outputs": [
    {
     "data": {
      "text/plain": [
       "<Axes: ylabel='Density'>"
      ]
     },
     "execution_count": 13,
     "metadata": {},
     "output_type": "execute_result"
    },
    {
     "data": {
      "image/png": "[encoded data removed]",
      "text/plain": [
       "<Figure size 640x480 with 1 Axes>"
      ]
     },
     "metadata": {},
     "output_type": "display_data"
    }
   ],
   "source": [
    "data_a[\"97\"].plot.kde()"
   ]
  }
 ],
 "metadata": {
  "kernelspec": {
   "display_name": "Python 3",
   "language": "python",
   "name": "python3"
  },
  "language_info": {
   "codemirror_mode": {
    "name": "ipython",
    "version": 3
   },
   "file_extension": ".py",
   "mimetype": "text/x-python",
   "name": "python",
   "nbconvert_exporter": "python",
   "pygments_lexer": "ipython3",
   "version": "3.11.2"
  },
  "orig_nbformat": 4
 },
 "nbformat": 4,
 "nbformat_minor": 2
}
